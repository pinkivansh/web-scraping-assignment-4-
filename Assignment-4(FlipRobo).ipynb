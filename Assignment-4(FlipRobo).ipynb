{
 "cells": [
  {
   "cell_type": "code",
   "execution_count": 13,
   "metadata": {},
   "outputs": [],
   "source": [
    "import pandas as pd\n",
    "import numpy as np\n",
    "from bs4 import BeautifulSoup\n",
    "import requests\n",
    "import selenium\n",
    "from selenium import webdriver\n",
    "import time\n",
    "from selenium.common.exceptions import StaleElementReferenceException,NoSuchElementException,ElementNotInteractableException"
   ]
  },
  {
   "cell_type": "markdown",
   "metadata": {},
   "source": [
    "1. Scrape the details of most viewed videos on YouTube from Wikipedia:"
   ]
  },
  {
   "cell_type": "code",
   "execution_count": 14,
   "metadata": {},
   "outputs": [],
   "source": [
    "Url = \"https://en.wikipedia.org/wiki/List_of_most-viewed_YouTube_videos\""
   ]
  },
  {
   "cell_type": "code",
   "execution_count": 15,
   "metadata": {},
   "outputs": [],
   "source": [
    "driver=webdriver.Chrome(r\"C:\\Users\\hp\\Downloads\\chromedriver_win32\\chromedriver.exe\")"
   ]
  },
  {
   "cell_type": "code",
   "execution_count": 16,
   "metadata": {},
   "outputs": [],
   "source": [
    "driver.get(Url)"
   ]
  },
  {
   "cell_type": "code",
   "execution_count": 17,
   "metadata": {},
   "outputs": [
    {
     "name": "stdout",
     "output_type": "stream",
     "text": [
      "['1.', '2.', '3.', '4.', '5.', '6.', '7.', '8.', '9.', '10.', '11.', '12.', '13.', '14.', '15.', '16.', '17.', '18.', '19.', '20.', '21.', '22.', '23.', '24.', '25.', '26.', '27.', '28.', '29.', '30.']\n"
     ]
    }
   ],
   "source": [
    "#scrapping rank of the video\n",
    "rank=[]\n",
    "try:\n",
    "    ranks=driver.find_elements_by_xpath(\"//table[@class='wikitable sortable jquery-tablesorter'][1]/tbody/tr/td[1]\")\n",
    "    for i in ranks:  \n",
    "        rank.append(i.text)\n",
    "        \n",
    "except NoSuchElementException:\n",
    "    rank.append(\"no detail available\")\n",
    "except StaleElementReferenceException:\n",
    "    rank.append(\"no detail available\")\n",
    "print(rank)\n",
    "    \n"
   ]
  },
  {
   "cell_type": "code",
   "execution_count": 18,
   "metadata": {},
   "outputs": [
    {
     "name": "stdout",
     "output_type": "stream",
     "text": [
      "['\"Baby Shark Dance\"[22]', '\"Despacito\"[24]', '\"Johny Johny Yes Papa\"[25]', '\"Shape of You\"[26]', '\"See You Again\"[27]', '\"Masha and the Bear – Recipe for Disaster\"[30]', '\"Bath Song\"[31]', '\"Learning Colors – Colorful Eggs on a Farm\"[32]', '\"Uptown Funk\"[33]', '\"Gangnam Style\"[34]', '\"Phonics Song with Two Words\"[36]', '\"Sugar\"[37]', '\"Dame Tu Cosita\"[38]', '\"Sorry\"[39]', '\"Roar\"[40]', '\"Counting Stars\"[41]', '\"Thinking Out Loud\"[42]', '\"Wheels on the Bus\"[43]', '\"Dark Horse\"[44]', '\"Faded\"[45]', '\"Girls Like You\"[46]', '\"Shake It Off\"[47]', '\"Lean On\"[48]', '\"Bailando\"[49]', '\"Let Her Go\"[50]', '\"Mi Gente\"[51]', '\"Perfect\"[52]', '\"Axel F\"[53]', '\"Waka Waka (This Time for Africa)\"[54]', '\"Hello\"[55]']\n"
     ]
    }
   ],
   "source": [
    "#scrapping the name of the video\n",
    "name=[]\n",
    "try:\n",
    "    names=driver.find_elements_by_xpath(\"//table[@class='wikitable sortable jquery-tablesorter'][1]/tbody/tr/td[2]\")\n",
    "    for i in names:\n",
    "        name.append(i.text)\n",
    "        \n",
    "except NoSuchElementException:\n",
    "    name.append(\"no detail available\")\n",
    "except StaleElementReferenceException:\n",
    "    name.append(\"no detail available\")\n",
    "print(name)         "
   ]
  },
  {
   "cell_type": "code",
   "execution_count": 20,
   "metadata": {},
   "outputs": [
    {
     "name": "stdout",
     "output_type": "stream",
     "text": [
      "[\"Pinkfong Kids' Songs & Stories\", 'Luis Fonsi', 'LooLoo Kids', 'Ed Sheeran', 'Wiz Khalifa', 'Get Movies', 'Cocomelon – Nursery Rhymes', 'Miroshka TV', 'Mark Ronson', 'Psy', 'ChuChu TV', 'Maroon 5', 'El Chombo', 'Justin Bieber', 'Katy Perry', 'OneRepublic', 'Ed Sheeran', 'Cocomelon – Nursery Rhymes', 'Katy Perry', 'Alan Walker', 'Maroon 5', 'Taylor Swift', 'Major Lazer', 'Enrique Iglesias', 'Passenger', 'J Balvin', 'Ed Sheeran', 'Crazy Frog', 'Shakira', 'Adele']\n"
     ]
    }
   ],
   "source": [
    "#scrapping the details of artist\n",
    "artist=[]\n",
    "try:\n",
    "    artists=driver.find_elements_by_xpath(\"//table[@class='wikitable sortable jquery-tablesorter'][1]/tbody/tr/td[3]\")\n",
    "    for i in artists:\n",
    "        artist.append(i.text)\n",
    "        \n",
    "except NoSuchElementException:\n",
    "    artist.append(\"no detail available\")\n",
    "except StaleElementReferenceException:\n",
    "    artist.append(\"no detail available\")\n",
    "print(artist)          "
   ]
  },
  {
   "cell_type": "code",
   "execution_count": 21,
   "metadata": {},
   "outputs": [
    {
     "name": "stdout",
     "output_type": "stream",
     "text": [
      "['June 17, 2016', 'January 12, 2017', 'October 8, 2016', 'January 30, 2017', 'April 6, 2015', 'January 31, 2012', 'May 2, 2018', 'February 27, 2018', 'November 19, 2014', 'July 15, 2012', 'March 6, 2014', 'January 14, 2015', 'April 5, 2018', 'October 22, 2015', 'September 5, 2013', 'May 31, 2013', 'October 7, 2014', 'May 24, 2018', 'February 20, 2014', 'December 3, 2015', 'May 31, 2018', 'August 18, 2014', 'March 22, 2015', 'April 11, 2014', 'July 25, 2012', 'June 29, 2017', 'November 9, 2017', 'June 16, 2009', 'June 4, 2010', 'October 22, 2015']\n"
     ]
    }
   ],
   "source": [
    "#scrapping the details of upload date\n",
    "upload_date=[]\n",
    "try:\n",
    "    upload_dates_list=driver.find_elements_by_xpath(\"//table[@class='wikitable sortable jquery-tablesorter'][1]/tbody/tr/td[5]\")\n",
    "    for i in upload_dates_list:\n",
    "        upload_date.append(i.text)\n",
    "        \n",
    "except NoSuchElementException:\n",
    "    upload_date.append(\"no detail available\")\n",
    "except StaleElementReferenceException:\n",
    "    upload_date.append(\"no detail available\")\n",
    "print(upload_date)        "
   ]
  },
  {
   "cell_type": "code",
   "execution_count": 22,
   "metadata": {},
   "outputs": [
    {
     "name": "stdout",
     "output_type": "stream",
     "text": [
      "['9.06', '7.47', '5.60', '5.40', '5.20', '4.45', '4.39', '4.35', '4.25', '4.14', '4.04', '3.52', '3.49', '3.45', '3.40', '3.35', '3.30', '3.20', '3.11', '3.11', '3.08', '3.08', '3.07', '3.07', '3.04', '2.95', '2.91', '2.91', '2.90', '2.86']\n"
     ]
    }
   ],
   "source": [
    "#scrapping the details of views\n",
    "views=[]\n",
    "try:\n",
    "    view=driver.find_elements_by_xpath(\"//table[@class='wikitable sortable jquery-tablesorter'][1]/tbody/tr/td[4]\")\n",
    "    for i in view:\n",
    "        views.append(i.text)\n",
    "        \n",
    "except NoSuchElementException:\n",
    "    views.append(\"no detail available\")\n",
    "except StaleElementReferenceException:\n",
    "    views.append(\"no detail available\")\n",
    "print(views)        "
   ]
  },
  {
   "cell_type": "code",
   "execution_count": 24,
   "metadata": {},
   "outputs": [
    {
     "name": "stdout",
     "output_type": "stream",
     "text": [
      "   Rank                                             Name  \\\n",
      "0    1.                           \"Baby Shark Dance\"[22]   \n",
      "1    2.                                  \"Despacito\"[24]   \n",
      "2    3.                       \"Johny Johny Yes Papa\"[25]   \n",
      "3    4.                               \"Shape of You\"[26]   \n",
      "4    5.                              \"See You Again\"[27]   \n",
      "5    6.   \"Masha and the Bear – Recipe for Disaster\"[30]   \n",
      "6    7.                                  \"Bath Song\"[31]   \n",
      "7    8.  \"Learning Colors – Colorful Eggs on a Farm\"[32]   \n",
      "8    9.                                \"Uptown Funk\"[33]   \n",
      "9   10.                              \"Gangnam Style\"[34]   \n",
      "10  11.                \"Phonics Song with Two Words\"[36]   \n",
      "11  12.                                      \"Sugar\"[37]   \n",
      "12  13.                             \"Dame Tu Cosita\"[38]   \n",
      "13  14.                                      \"Sorry\"[39]   \n",
      "14  15.                                       \"Roar\"[40]   \n",
      "15  16.                             \"Counting Stars\"[41]   \n",
      "16  17.                          \"Thinking Out Loud\"[42]   \n",
      "17  18.                          \"Wheels on the Bus\"[43]   \n",
      "18  19.                                 \"Dark Horse\"[44]   \n",
      "19  20.                                      \"Faded\"[45]   \n",
      "20  21.                             \"Girls Like You\"[46]   \n",
      "21  22.                               \"Shake It Off\"[47]   \n",
      "22  23.                                    \"Lean On\"[48]   \n",
      "23  24.                                   \"Bailando\"[49]   \n",
      "24  25.                                 \"Let Her Go\"[50]   \n",
      "25  26.                                   \"Mi Gente\"[51]   \n",
      "26  27.                                    \"Perfect\"[52]   \n",
      "27  28.                                     \"Axel F\"[53]   \n",
      "28  29.           \"Waka Waka (This Time for Africa)\"[54]   \n",
      "29  30.                                      \"Hello\"[55]   \n",
      "\n",
      "                            Artist        Upload Date Views  \n",
      "0   Pinkfong Kids' Songs & Stories      June 17, 2016  9.06  \n",
      "1                       Luis Fonsi   January 12, 2017  7.47  \n",
      "2                      LooLoo Kids    October 8, 2016  5.60  \n",
      "3                       Ed Sheeran   January 30, 2017  5.40  \n",
      "4                      Wiz Khalifa      April 6, 2015  5.20  \n",
      "5                       Get Movies   January 31, 2012  4.45  \n",
      "6       Cocomelon – Nursery Rhymes        May 2, 2018  4.39  \n",
      "7                      Miroshka TV  February 27, 2018  4.35  \n",
      "8                      Mark Ronson  November 19, 2014  4.25  \n",
      "9                              Psy      July 15, 2012  4.14  \n",
      "10                       ChuChu TV      March 6, 2014  4.04  \n",
      "11                        Maroon 5   January 14, 2015  3.52  \n",
      "12                       El Chombo      April 5, 2018  3.49  \n",
      "13                   Justin Bieber   October 22, 2015  3.45  \n",
      "14                      Katy Perry  September 5, 2013  3.40  \n",
      "15                     OneRepublic       May 31, 2013  3.35  \n",
      "16                      Ed Sheeran    October 7, 2014  3.30  \n",
      "17      Cocomelon – Nursery Rhymes       May 24, 2018  3.20  \n",
      "18                      Katy Perry  February 20, 2014  3.11  \n",
      "19                     Alan Walker   December 3, 2015  3.11  \n",
      "20                        Maroon 5       May 31, 2018  3.08  \n",
      "21                    Taylor Swift    August 18, 2014  3.08  \n",
      "22                     Major Lazer     March 22, 2015  3.07  \n",
      "23                Enrique Iglesias     April 11, 2014  3.07  \n",
      "24                       Passenger      July 25, 2012  3.04  \n",
      "25                        J Balvin      June 29, 2017  2.95  \n",
      "26                      Ed Sheeran   November 9, 2017  2.91  \n",
      "27                      Crazy Frog      June 16, 2009  2.91  \n",
      "28                         Shakira       June 4, 2010  2.90  \n",
      "29                           Adele   October 22, 2015  2.86  \n"
     ]
    }
   ],
   "source": [
    "#preparing dataframe\n",
    "videos=pd.DataFrame({\"Rank\":rank,\"Name\":name,\"Artist\":artist,\"Upload Date\":upload_date,\"Views\":views})\n",
    "videos.to_csv(\"Top_30_Videos\",index=True)\n",
    "print(videos)"
   ]
  },
  {
   "cell_type": "markdown",
   "metadata": {},
   "source": [
    "2. Scrape the details team India’s international fixtures from bcci.tv."
   ]
  },
  {
   "cell_type": "code",
   "execution_count": 25,
   "metadata": {},
   "outputs": [],
   "source": [
    "Url = \"https://www.bcci.tv\""
   ]
  },
  {
   "cell_type": "code",
   "execution_count": 27,
   "metadata": {},
   "outputs": [],
   "source": [
    "driver.get(Url)"
   ]
  },
  {
   "cell_type": "code",
   "execution_count": 28,
   "metadata": {},
   "outputs": [],
   "source": [
    "#going to internation fixtures page\n",
    "fixtures=driver.find_element_by_xpath(\"//div[@class='navigation__drop-down drop-down drop-down--reveal-on-hover']/div/ul/li/a\")\n",
    "try:\n",
    "    fixtures.click()\n",
    "except ElementNotInteractableException:\n",
    "    driver.get(fixtures.get_attribute('href'))"
   ]
  },
  {
   "cell_type": "code",
   "execution_count": 29,
   "metadata": {},
   "outputs": [],
   "source": [
    "url=[]\n",
    "match=driver.find_elements_by_xpath(\"//div[@class='js-1ist']/a\")\n",
    "for i in match:\n",
    "    url.append(i.get_attribute('href'))"
   ]
  },
  {
   "cell_type": "code",
   "execution_count": 39,
   "metadata": {},
   "outputs": [],
   "source": [
    "match=[]\n",
    "series=[]\n",
    "place=[]\n",
    "date=[]\n",
    "time=[]\n",
    "for i in url:#list of urls of match description pages\n",
    "    driver.get(i)\n",
    "    try:#scarping match title\n",
    "        match_title=driver.find_element_by_xpath(\"//p[@class='mc-header-info__match-description']/span\")\n",
    "        match.append(match_title.text)\n",
    "    except NoSuchElementException:#handling no such element exception\n",
    "        match.append('No details available')\n",
    "    try:#scarping series title\n",
    "        series_title=driver.find_element_by_xpath(\"//h1[@class='mc-header-info__title']/strong\")\n",
    "        series.append(series_title.text)\n",
    "    except NoSuchElementException:#handling no such element exception\n",
    "        series.append(\"No details Available\")\n",
    "    try:#scarping match venue\n",
    "        place_title=driver.find_element_by_xpath(\"//h1[@class='mc-header-info__title']\")\n",
    "        place.append(place_title.text.split()[-1])\n",
    "    except NoSuchElementException:#handling no such element exception\n",
    "        place.append(\"No details Available\")\n",
    "    try:#scarping date of match \n",
    "        date_title=driver.find_element_by_xpath(\"//div[@class='mc-header-scorebox__datetime']/strong\")\n",
    "        date.append(date_title.text)\n",
    "    except NoSuchElementException:#handling no such element exception\n",
    "        date.append(\"No details Available\")        \n",
    "    try:#scarping time of the match\n",
    "        time_title=driver.find_element_by_xpath(\"//div[@class='mc-header-scorebox__datetime']/span\")\n",
    "        time.append(time_title.text)\n",
    "    except NoSuchElementException:#handling no such element exception\n",
    "        time.append(\"No details Available\")\n"
   ]
  },
  {
   "cell_type": "code",
   "execution_count": 40,
   "metadata": {},
   "outputs": [
    {
     "name": "stdout",
     "output_type": "stream",
     "text": [
      "Empty DataFrame\n",
      "Columns: [Match, Series, Place, Date, Time]\n",
      "Index: []\n"
     ]
    }
   ],
   "source": [
    "match=pd.DataFrame({'Match':match,'Series':series,'Place':place,'Date':date,'Time':time})\n",
    "print(match)"
   ]
  },
  {
   "cell_type": "markdown",
   "metadata": {},
   "source": [
    "4. Scrape the details of State-wise GDP of India from statisticstime.com."
   ]
  },
  {
   "cell_type": "code",
   "execution_count": 41,
   "metadata": {},
   "outputs": [],
   "source": [
    "Url =\"http://statisticstimes.com\""
   ]
  },
  {
   "cell_type": "code",
   "execution_count": 42,
   "metadata": {},
   "outputs": [],
   "source": [
    "driver.get(\"http://statisticstimes.com\")"
   ]
  },
  {
   "cell_type": "code",
   "execution_count": 43,
   "metadata": {},
   "outputs": [
    {
     "name": "stdout",
     "output_type": "stream",
     "text": [
      "['NoDetailsAvailable']\n"
     ]
    }
   ],
   "source": [
    "rank=[]\n",
    "try:\n",
    "    ranks=driver.find_elements_by_xpath(\"//div[@id='table_id_wrapper']/table/tbody/tr/td[1]\")\n",
    "    for i in ranks:\n",
    "        rank.append(i.text)\n",
    "except NoSuchElementException:\n",
    "    rank.append('NoDetailsAvailable')\n",
    "print(rank)"
   ]
  },
  {
   "cell_type": "code",
   "execution_count": 44,
   "metadata": {},
   "outputs": [
    {
     "name": "stdout",
     "output_type": "stream",
     "text": [
      "[]\n"
     ]
    }
   ],
   "source": [
    "state=[]\n",
    "try:\n",
    "    states=driver.find_elements_by_xpath(\"//div[@id='table_id_wrapper']/table/tbody/tr/td[2]\")\n",
    "    for i in states:\n",
    "        state.append(i.text)\n",
    "except NoSuchElementException:\n",
    "    state.append('NoDetailsAvailable')\n",
    "print(state)    "
   ]
  },
  {
   "cell_type": "code",
   "execution_count": 46,
   "metadata": {},
   "outputs": [
    {
     "name": "stdout",
     "output_type": "stream",
     "text": [
      "[]\n"
     ]
    }
   ],
   "source": [
    "GSDP=[]\n",
    "try:\n",
    "    info=driver.find_elements_by_xpath(\"//div[@id='table_id_wrapper']/table/tbody/tr/td[4]\")\n",
    "    for i in info:\n",
    "        GSDP.append(i.text)\n",
    "except NoSuchElementException:\n",
    "    GSDP.append('NoDetailsAvailable')\n",
    "print(GSDP)    \n",
    "        \n"
   ]
  },
  {
   "cell_type": "code",
   "execution_count": 47,
   "metadata": {},
   "outputs": [
    {
     "name": "stdout",
     "output_type": "stream",
     "text": [
      "[]\n"
     ]
    }
   ],
   "source": [
    "GSDP_18=[]\n",
    "try:\n",
    "    info=driver.find_elements_by_xpath(\"//div[@id='table_id_wrapper']/table/tbody/tr/td[3]\")\n",
    "    for i in info:\n",
    "        GSDP_18.append(i.text)\n",
    "except NoSuchElementException:\n",
    "    GSDP_18.append('NoDetailsAvailable')\n",
    "print(GSDP_18)    "
   ]
  },
  {
   "cell_type": "code",
   "execution_count": 48,
   "metadata": {},
   "outputs": [
    {
     "name": "stdout",
     "output_type": "stream",
     "text": [
      "[]\n"
     ]
    }
   ],
   "source": [
    "share=[]\n",
    "try:\n",
    "    shares=driver.find_elements_by_xpath(\"//div[@id='table_id_wrapper']/table/tbody/tr/td[5]\")\n",
    "    for i in shares:\n",
    "        share.append(i.text)\n",
    "except NoSuchElementException:\n",
    "    share.append('NoDetailsAvailable')\n",
    "print(share)    "
   ]
  },
  {
   "cell_type": "code",
   "execution_count": 49,
   "metadata": {},
   "outputs": [
    {
     "name": "stdout",
     "output_type": "stream",
     "text": [
      "[]\n"
     ]
    }
   ],
   "source": [
    "GDP_billion=[]\n",
    "try:\n",
    "    info=driver.find_elements_by_xpath(\"//div[@id='table_id_wrapper']/table/tbody/tr/td[6]\")\n",
    "    for i in info:\n",
    "        GDP_billion.append(i.text)\n",
    "except NoSuchElementException:\n",
    "    GDP_billion.append('NoDetailsAvailable')\n",
    "print(GDP_billion)    "
   ]
  },
  {
   "cell_type": "markdown",
   "metadata": {},
   "source": [
    "5. Scrape the details of trending repositories on Github.com"
   ]
  },
  {
   "cell_type": "code",
   "execution_count": 50,
   "metadata": {},
   "outputs": [],
   "source": [
    "Url = \"https://github.com\""
   ]
  },
  {
   "cell_type": "code",
   "execution_count": 54,
   "metadata": {},
   "outputs": [],
   "source": [
    "driver.get(Url)"
   ]
  },
  {
   "cell_type": "code",
   "execution_count": 55,
   "metadata": {},
   "outputs": [],
   "source": [
    "#finding explore-trending option\n",
    "explore=driver.find_element_by_xpath(\"//ul[@class='list-style-none mb-3']/li[3]/a\")\n",
    "driver.get(explore.get_attribute('href'))"
   ]
  },
  {
   "cell_type": "code",
   "execution_count": 56,
   "metadata": {},
   "outputs": [
    {
     "name": "stdout",
     "output_type": "stream",
     "text": [
      "25\n"
     ]
    }
   ],
   "source": [
    "#scraping repositories title\n",
    "repo_title=[]\n",
    "try:\n",
    "    repos=driver.find_elements_by_xpath(\"//h1[@class='h3 lh-condensed']\")\n",
    "    for i in repos:\n",
    "        repo_title.append(i.text)\n",
    "except NoSuchElementException:#handling no such element exception\n",
    "    repo_title.append('No details available')\n",
    "print(len(repo_title))"
   ]
  },
  {
   "cell_type": "code",
   "execution_count": 57,
   "metadata": {},
   "outputs": [
    {
     "name": "stdout",
     "output_type": "stream",
     "text": [
      "0\n"
     ]
    }
   ],
   "source": [
    "#scraping repositories description\n",
    "repo_desc=[]\n",
    "try:\n",
    "    descriptions=driver.find_elements_by_xpath(\"//p[@class='col-9 text-gray my-1 pr-4']\")\n",
    "    for i in descriptions:\n",
    "        repo_desc.append(i.text)\n",
    "except NoSuchElementException:#handling no such element exception\n",
    "    repo_desc.append('No details available')\n",
    "print(len(repo_desc))"
   ]
  },
  {
   "cell_type": "code",
   "execution_count": 58,
   "metadata": {},
   "outputs": [],
   "source": [
    "repo_urls=[]\n",
    "repos=driver.find_elements_by_xpath(\"//h1[@class='h3 lh-condensed']/a\")\n",
    "for i in repos:\n",
    "    repo_urls.append(i.get_attribute('href'))"
   ]
  },
  {
   "cell_type": "code",
   "execution_count": 59,
   "metadata": {},
   "outputs": [],
   "source": [
    "Contributors_count=[]\n",
    "Language_used=[]\n",
    "for i in repo_urls:\n",
    "    driver.get(i)\n",
    "    l=[]\n",
    "    try:#scraping contributors count\n",
    "        count=driver.find_element_by_xpath(\"//h2[@class='h4 mb-3']/a[contains(text(),'Contributors')]/span\")\n",
    "        Contributors_count.append(count.text)\n",
    "    except NoSuchElementException:#handling no such element exception\n",
    "        Contributors_count.append('No details available')\n",
    "     #scraping languages used   \n",
    "    languages=driver.find_elements_by_xpath(\"//span[@class='text-gray-dark text-bold mr-1']\")\n",
    "    if languages:    \n",
    "        for i in languages:\n",
    "            l.append(i.text)\n",
    "    else:\n",
    "        l.append('No languages used')\n",
    "    Language_used.append(l)"
   ]
  },
  {
   "cell_type": "code",
   "execution_count": 61,
   "metadata": {},
   "outputs": [
    {
     "name": "stdout",
     "output_type": "stream",
     "text": [
      "[]\n",
      "[]\n"
     ]
    }
   ],
   "source": [
    "print(Contributors_count)\n",
    "print(Language_used)"
   ]
  },
  {
   "cell_type": "markdown",
   "metadata": {},
   "source": [
    "6. Scrape the details of top 100 songs on billboard.com"
   ]
  },
  {
   "cell_type": "code",
   "execution_count": 62,
   "metadata": {},
   "outputs": [],
   "source": [
    "Url = \"https://www.billboard.com\""
   ]
  },
  {
   "cell_type": "code",
   "execution_count": 63,
   "metadata": {},
   "outputs": [],
   "source": [
    "driver.get(Url)"
   ]
  },
  {
   "cell_type": "code",
   "execution_count": 64,
   "metadata": {},
   "outputs": [],
   "source": [
    "#clicking charts button\n",
    "charts=driver.find_element_by_xpath(\"//a[@class='header__main-link header__main-link--charts']\")\n",
    "try:\n",
    "    charts.click()\n",
    "except ElementNotInteractableException:\n",
    "    driver.get(charts.get_attribute('href'))"
   ]
  },
  {
   "cell_type": "code",
   "execution_count": 66,
   "metadata": {},
   "outputs": [
    {
     "data": {
      "text/plain": [
       "'Url = \"https://en.wikipedia.org/wiki/List_of_most-viewed_YouTube_videos\"'"
      ]
     },
     "execution_count": 66,
     "metadata": {},
     "output_type": "execute_result"
    }
   ],
   "source": [
    "#clicking the hot 100 songs link\n",
    "top_100=driver.find_element_by_xpath(\"//a[@class='charts-landing__link charts-landing__video--background']\")\n",
    "try:\n",
    "    top_100.click()\n",
    "except ElementNotInteractableException:\n",
    "    driver.get(top_100.get_attribute('href'))\n",
    "In [14]"
   ]
  },
  {
   "cell_type": "code",
   "execution_count": 67,
   "metadata": {},
   "outputs": [
    {
     "name": "stdout",
     "output_type": "stream",
     "text": [
      "100\n"
     ]
    }
   ],
   "source": [
    "#scraping song names\n",
    "song_name=[]\n",
    "try:\n",
    "    names=driver.find_elements_by_xpath(\"//span[@class='chart-element__information__song text--truncate color--primary']\")\n",
    "    for i in names:\n",
    "        song_name.append(i.text)\n",
    "except NoSuchElementException:#handling no such element exception\n",
    "    song_name.append('No details available')\n",
    "print(len(song_name))"
   ]
  },
  {
   "cell_type": "code",
   "execution_count": 68,
   "metadata": {},
   "outputs": [
    {
     "name": "stdout",
     "output_type": "stream",
     "text": [
      "100\n"
     ]
    }
   ],
   "source": [
    "#scraping song names\n",
    "artist_name=[]\n",
    "try:\n",
    "    names=driver.find_elements_by_xpath(\"//span[@class='chart-element__information__artist text--truncate color--secondary']\")\n",
    "    for i in names:\n",
    "        artist_name.append(i.text)\n",
    "except NoSuchElementException:#handling no such element exception\n",
    "    artist_name.append('No details available')\n",
    "print(len(artist_name))"
   ]
  },
  {
   "cell_type": "code",
   "execution_count": 69,
   "metadata": {},
   "outputs": [
    {
     "name": "stdout",
     "output_type": "stream",
     "text": [
      "100\n"
     ]
    },
    {
     "data": {
      "text/plain": [
       "100"
      ]
     },
     "execution_count": 69,
     "metadata": {},
     "output_type": "execute_result"
    }
   ],
   "source": [
    "#scraping last week rank\n",
    "last_week_rank=[]\n",
    "try:\n",
    "    ranks=driver.find_elements_by_xpath(\"//div[@class='chart-element__meta text--center color--secondary text--last']\")\n",
    "    for i in ranks:\n",
    "        last_week_rank.append(i.text)\n",
    "except NoSuchElementException:#handling no such element exception\n",
    "    last_week_rank.append('No details available')\n",
    "print(len(last_week_rank))\n",
    "100"
   ]
  },
  {
   "cell_type": "code",
   "execution_count": 70,
   "metadata": {},
   "outputs": [
    {
     "name": "stdout",
     "output_type": "stream",
     "text": [
      "100\n"
     ]
    }
   ],
   "source": [
    "#scraping peak rank\n",
    "peak_rank=[]\n",
    "try:\n",
    "    ranks=driver.find_elements_by_xpath(\"//div[@class='chart-element__meta text--center color--secondary text--peak']\")\n",
    "    for i in ranks:\n",
    "        peak_rank.append(i.text)\n",
    "except NoSuchElementException:#handling no such element exception\n",
    "    peak_rank.append('No details available')\n",
    "print(len(peak_rank))"
   ]
  },
  {
   "cell_type": "code",
   "execution_count": 71,
   "metadata": {},
   "outputs": [
    {
     "name": "stdout",
     "output_type": "stream",
     "text": [
      "100\n"
     ]
    }
   ],
   "source": [
    "#scraping weeks on chart\n",
    "weeks=[]\n",
    "try:\n",
    "    week_count=driver.find_elements_by_xpath(\"//div[@class='chart-element__meta text--center color--secondary text--week']\")\n",
    "    for i in week_count:\n",
    "        weeks.append(i.text)\n",
    "except NoSuchElementException:#handling no such element exception\n",
    "    weeks.append('No details available')\n",
    "print(len(weeks))"
   ]
  },
  {
   "cell_type": "code",
   "execution_count": 72,
   "metadata": {},
   "outputs": [
    {
     "name": "stdout",
     "output_type": "stream",
     "text": [
      "          Song_Name                                        Artist_Name  \\\n",
      "0            Butter                                                BTS   \n",
      "1     Industry Baby                            Lil Nas X & Jack Harlow   \n",
      "2          Good 4 U                                     Olivia Rodrigo   \n",
      "3              Stay                      The Kid LAROI & Justin Bieber   \n",
      "4        Levitating                          Dua Lipa Featuring DaBaby   \n",
      "..              ...                                                ...   \n",
      "95     Minimum Wage                                      Blake Shelton   \n",
      "96          Working                                Tate McRae X Khalid   \n",
      "97      Holy Smokes                Trippie Redd Featuring Lil Uzi Vert   \n",
      "98        WUSYANAME  Tyler, The Creator Featuring YoungBoy Never Br...   \n",
      "99  Still Chose You                    The Kid LAROI Featuring Mustard   \n",
      "\n",
      "   Last_week_rank Peak Weeks_on_chart  \n",
      "0               1    1             10  \n",
      "1               -    2              1  \n",
      "2               2    1             11  \n",
      "3               4    3              3  \n",
      "4               3    2             43  \n",
      "..            ...  ...            ...  \n",
      "95             83   67             12  \n",
      "96              -   88              5  \n",
      "97             50   50              2  \n",
      "98             91   14              5  \n",
      "99              -  100              1  \n",
      "\n",
      "[100 rows x 5 columns]\n"
     ]
    }
   ],
   "source": [
    "#creating dataframe\n",
    "df=pd.DataFrame({'Song_Name':song_name,\n",
    "                'Artist_Name':artist_name,\n",
    "                'Last_week_rank':last_week_rank,\n",
    "                'Peak':peak_rank,\n",
    "                'Weeks_on_chart':weeks})\n",
    "print(df)"
   ]
  },
  {
   "cell_type": "markdown",
   "metadata": {},
   "source": [
    "7. Scrape the details of Data science recruiters from naukri.com."
   ]
  },
  {
   "cell_type": "code",
   "execution_count": 73,
   "metadata": {},
   "outputs": [],
   "source": [
    "Url = \"https://www.naukri.com\""
   ]
  },
  {
   "cell_type": "code",
   "execution_count": 74,
   "metadata": {},
   "outputs": [],
   "source": [
    "driver.get(Url)"
   ]
  },
  {
   "cell_type": "code",
   "execution_count": 75,
   "metadata": {},
   "outputs": [],
   "source": [
    "#clicking on recruiters link\n",
    "recruiters=driver.find_element_by_xpath(\"//a[@title='Search Recruiters']\")\n",
    "driver.get(recruiters.get_attribute('href'))"
   ]
  },
  {
   "cell_type": "code",
   "execution_count": 76,
   "metadata": {},
   "outputs": [],
   "source": [
    "#accesing search bar\n",
    "search=driver.find_element_by_xpath(\"//input[@class='sugInp']\")\n",
    "search.send_keys(\"Data Science\")"
   ]
  },
  {
   "cell_type": "code",
   "execution_count": 77,
   "metadata": {},
   "outputs": [],
   "source": [
    "#search button\n",
    "button=driver.find_element_by_xpath(\"//button[@id='qsbFormBtn']\")\n",
    "button.click()"
   ]
  },
  {
   "cell_type": "code",
   "execution_count": 78,
   "metadata": {},
   "outputs": [
    {
     "name": "stdout",
     "output_type": "stream",
     "text": [
      "50\n"
     ]
    }
   ],
   "source": [
    "#scrapping names\n",
    "name=[]\n",
    "try:\n",
    "    names=driver.find_elements_by_xpath(\"//div[@class='recInfo']/div/p/a[1]\")\n",
    "    for i in names:\n",
    "        name.append(i.text)\n",
    "except NoSuchElementException:#handling no such element exception\n",
    "    name.append('No details available')\n",
    "print(len(name))"
   ]
  },
  {
   "cell_type": "code",
   "execution_count": 79,
   "metadata": {},
   "outputs": [
    {
     "name": "stdout",
     "output_type": "stream",
     "text": [
      "50\n"
     ]
    }
   ],
   "source": [
    "#scrapping designation\n",
    "designation=[]\n",
    "try:\n",
    "    designation_list=driver.find_elements_by_xpath(\"//div[@class='recInfo']/div/p/span[1]\")\n",
    "    for i in designation_list:\n",
    "        designation.append(i.text)\n",
    "except NoSuchElementException:#handling no such element exception\n",
    "    designation.append('No details available')\n",
    "print(len(designation))"
   ]
  },
  {
   "cell_type": "code",
   "execution_count": 83,
   "metadata": {},
   "outputs": [
    {
     "name": "stdout",
     "output_type": "stream",
     "text": [
      "50\n"
     ]
    }
   ],
   "source": [
    "#scrapping company names\n",
    "company=[]\n",
    "try:\n",
    "    companies=driver.find_elements_by_xpath(\"//div[@class='recInfo']/div/p/a[2]\")\n",
    "    for i in companies:\n",
    "        company.append(i.text)\n",
    "except NoSuchElementException:#handling no such element exception\n",
    "    company.append('No details available')\n",
    "print(len(company))"
   ]
  },
  {
   "cell_type": "code",
   "execution_count": 84,
   "metadata": {},
   "outputs": [
    {
     "name": "stdout",
     "output_type": "stream",
     "text": [
      "50\n"
     ]
    }
   ],
   "source": [
    "#skills they hire for\n",
    "skill=[]\n",
    "try:\n",
    "    skills=driver.find_elements_by_xpath(\"//div[@class='recInfo']/div[2]\")\n",
    "    for i in skills:\n",
    "        skill.append(i.text)\n",
    "except NoSuchElementException:#handling no such element exception\n",
    "    skill.append('No details available')\n",
    "print(len(skill))"
   ]
  },
  {
   "cell_type": "code",
   "execution_count": 85,
   "metadata": {},
   "outputs": [
    {
     "name": "stdout",
     "output_type": "stream",
     "text": [
      "50\n"
     ]
    }
   ],
   "source": [
    "location=[]\n",
    "soup=BeautifulSoup(driver.page_source,'html.parser')\n",
    "l=soup.find_all('div',attrs={'vcard'})\n",
    "for i in l:\n",
    "    try:\n",
    "        location.append(i.find('small').text)\n",
    "    except AttributeError :\n",
    "        location.append(\"No details available\")\n",
    "print(len(location))"
   ]
  },
  {
   "cell_type": "code",
   "execution_count": 86,
   "metadata": {},
   "outputs": [
    {
     "name": "stdout",
     "output_type": "stream",
     "text": [
      "                                             Name  \\\n",
      "0                                    Aakash Harit   \n",
      "1                            shravan Kumar Gaddam   \n",
      "2                        MARSIAN Technologies LLP   \n",
      "3                                    Anik Agrawal   \n",
      "4                                    subhas patel   \n",
      "5    Abhishek - Only Analytics Hiring - India and   \n",
      "6   Institute for Financial Management and Resear   \n",
      "7                                     Balu Ramesh   \n",
      "8                                   Asif Lucknowi   \n",
      "9                                 InstaFinancials   \n",
      "10                                 Priyanka Akiri   \n",
      "11                                Kalpana Dumpala   \n",
      "12                                        Mubarak   \n",
      "13                                 Kushal Rastogi   \n",
      "14                                    Ruchi Dhote   \n",
      "15                             Mahesh Babu Channa   \n",
      "16                                   Kapil Devang   \n",
      "17                                  Manisha Yadav   \n",
      "18                                    Riya Rajesh   \n",
      "19                           Rashmi Bhattacharjee   \n",
      "20                                  Faizan Kareem   \n",
      "21                                 Rithika dadwal   \n",
      "22                             Sandhya Khandagale   \n",
      "23                                      Shaun Rao   \n",
      "24                                  Azahar Shaikh   \n",
      "25                                          Manas   \n",
      "26                                          kumar   \n",
      "27                                   Sunil Vedula   \n",
      "28                                    Rajat Kumar   \n",
      "29                                    Priya Khare   \n",
      "30                                Dhruv Dev Dubey   \n",
      "31                                      Jayanth N   \n",
      "32                                       SREEDHAR   \n",
      "33                              Radha Manivasagam   \n",
      "34                                     Ravi Dubey   \n",
      "35                                  Prateek Kumar   \n",
      "36                                    Amit Sharma   \n",
      "37                                          Kanan   \n",
      "38                           Shashikant Chaudhary   \n",
      "39                                           Brad   \n",
      "40                                   Rutuja Pawar   \n",
      "41                            Madhusudhan Sridhar   \n",
      "42                                    Ankit Sinha   \n",
      "43                                 Gaurav Chouhan   \n",
      "44                                   Rashi Kacker   \n",
      "45                                        Ashwini   \n",
      "46                                   Balaji Kolli   \n",
      "47                                 Rajani Nagaraj   \n",
      "48                                    ROHIT Kumar   \n",
      "49                                 Amir Chowdhury   \n",
      "\n",
      "                            Designation  \\\n",
      "0                            HR Manager   \n",
      "1                     Company Recruiter   \n",
      "2                            Company HR   \n",
      "3                     Company Recruiter   \n",
      "4                           Founder CEO   \n",
      "5           Recruitment Lead Consultant   \n",
      "6                     Programme Manager   \n",
      "7                      HR Administrator   \n",
      "8                              Director   \n",
      "9                        Human Resource   \n",
      "10                           HR Manager   \n",
      "11                     Executive Hiring   \n",
      "12                           Company HR   \n",
      "13                           Company HR   \n",
      "14  Senior Executive Talent Acquisition   \n",
      "15                         HR Team Lead   \n",
      "16                           HR Manager   \n",
      "17                         HR Executive   \n",
      "18           Manager Talent Acquisition   \n",
      "19                              HR Head   \n",
      "20                           HR MANAGER   \n",
      "21                         HR Recruiter   \n",
      "22                         HR Recruiter   \n",
      "23              Manager Human Resources   \n",
      "24                    Company Recruiter   \n",
      "25              Lead Talent acquisition   \n",
      "26                           Proprietor   \n",
      "27                                  CEO   \n",
      "28                          Founder CEO   \n",
      "29                       Senior Manager   \n",
      "30             Company Recruitment Head   \n",
      "31                      Project Manager   \n",
      "32               Recruitment Consultant   \n",
      "33                         HR Executive   \n",
      "34                  Recruitment Manager   \n",
      "35                                 Head   \n",
      "36                           Consultant   \n",
      "37         senior technology instructor   \n",
      "38             HR Recruiter/HR Excutive   \n",
      "39        Manager, Technical Recruiting   \n",
      "40                  Technical Recruiter   \n",
      "41                      Erp Implementer   \n",
      "42                       Head Analytics   \n",
      "43              Chief Technical Officer   \n",
      "44                   Sr Product Manager   \n",
      "45             Director Global Delivery   \n",
      "46                           Co Founder   \n",
      "47                           HR Manager   \n",
      "48                            Architect   \n",
      "49                     Managing Partner   \n",
      "\n",
      "                                           Company                  Location  \\\n",
      "0                             Data Science Network                     Delhi   \n",
      "1                    Shore Infotech India Pvt. Ltd  Hyderabad / Secunderabad   \n",
      "2                         MARSIAN Technologies LLP                      Pune   \n",
      "3            Enerlytics Software Solutions Pvt Ltd                 Ahmedabad   \n",
      "4                                  LibraryXProject             UK - (london)   \n",
      "5       Apidel Technologies Division of Transpower         Vadodara / Baroda   \n",
      "6                                             IFMR                   Chennai   \n",
      "7                      Techvantage Systems Pvt Ltd                Trivandrum   \n",
      "8                       Weupskill- Live Wire India                    Indore   \n",
      "9                 CBL Data Science Private Limited     Bengaluru / Bangalore   \n",
      "10          Infinitive Software Solutions Pvt.Ltd.                 Hyderabad   \n",
      "11                              Innominds Software  Hyderabad / Secunderabad   \n",
      "12                                        MoneyTap     Bengaluru / Bangalore   \n",
      "13              QuantMagnum Technologies Pvt. Ltd.                    Mumbai   \n",
      "14                           Bristlecone India Ltd                      Pune   \n",
      "15                               SocialPrachar.com  Hyderabad / Secunderabad   \n",
      "16                                  BISP Solutions                    Bhopal   \n",
      "17                                        Easi Tax               Navi Mumbai   \n",
      "18                     Novelworx Digital Solutions                    Cochin   \n",
      "19         AXESTRACK SOFTWARE SOLUTIONS PRIVATE...                     Delhi   \n",
      "20                   FirstTech Consaltants Pvt.Ltd  Hyderabad / Secunderabad   \n",
      "21                                Affine Analytics                      Pune   \n",
      "22                 Compumatrice Multimedia Pvt Ltd                      Pune   \n",
      "23                              Exela Technologies                      Pune   \n",
      "24                 NEAL ANALYTICS SERVICES PVT LTD                      Pune   \n",
      "25      Autumn Leaf Consulting Services Private...     Bengaluru / Bangalore   \n",
      "26                                         trainin     Bengaluru / Bangalore   \n",
      "27                            Nanoprecise Sci Corp      No details available   \n",
      "28                  R.S Consultancy &amp; Services                     Delhi   \n",
      "29                          Independent Consultant     Bengaluru / Bangalore   \n",
      "30                                    Confidential     Bengaluru / Bangalore   \n",
      "31        Dollarbird Information Services Pvt, Ltd           Mysoru / Mysore   \n",
      "32     JOBSMILL BUSINESS SOLUTIONS PRIVATE LIMITED  Hyderabad / Secunderabad   \n",
      "33                                      Techcovery     Bengaluru / Bangalore   \n",
      "34                     HyrEzy Talent Solutions LLP                 Ghaziabad   \n",
      "35                                         Trisect                     Noida   \n",
      "36                                 ASCO consulting                 New Delhi   \n",
      "37                                         NY INST                   Chennai   \n",
      "38  3D India Staffing Research &amp; Consulting...                   Aligarh   \n",
      "39                                     O.C. Tanner            Salt Lake City   \n",
      "40                                   Demand Matrix                      Pune   \n",
      "41                             MADHUSUDHAN SRIDHAR     Bengaluru / Bangalore   \n",
      "42                                  Suntech Global                    Mumbai   \n",
      "43                        Strategic Consulting Lab                    Indore   \n",
      "44                            Impel Labs Pvt. Ltd.     Bengaluru / Bangalore   \n",
      "45                                    MRP Advisers                    MYSORE   \n",
      "46                   Saras Solutions India Pvt Ltd  Hyderabad / Secunderabad   \n",
      "47                                     WildJasmine     Bengaluru / Bangalore   \n",
      "48                             LNT Private Limited                    Mumbai   \n",
      "49                                     Granular.ai      No details available   \n",
      "\n",
      "                                        Skills I hire  \n",
      "0   Classic ASP Developer, Internet Marketing Prof...  \n",
      "1   .Net, Java, Data Science, Linux Administration...  \n",
      "2   Data Science, Artificial Intelligence, Machine...  \n",
      "3   Mean Stack, javascript, angularjs, mongodb, We...  \n",
      "4   Hadoop, Spark, Digital Strategy, Data Architec...  \n",
      "5   Analytics, Business Intelligence, Business Ana...  \n",
      "6                                        Data Science  \n",
      "7   Machine Learning, algorithms, Go Getter, Compu...  \n",
      "8   Technical Training, Software Development, Pres...  \n",
      "9   Software Development, It Sales, Account Manage...  \n",
      "10  Oracle Dba, Data Science, Data Warehousing, ET...  \n",
      "11  Qa, Ui/ux, Java Developer, Java Architect, C++...  \n",
      "12  Business Intelligence, Data Warehousing, Data ...  \n",
      "13  Office Administration, Hr Administration, tele...  \n",
      "14  Qlikview, Qlik Sense, Microsoft Azure, Power B...  \n",
      "15  Social Media, digital media maketing, seo, smm...  \n",
      "16     Big Data, Hadoop, Data Analytics, Data Science  \n",
      "17  Telecalling, Client Interaction, Marketing, Re...  \n",
      "18                                       Data Science  \n",
      "19  Corporate Sales, Software Development, Softwar...  \n",
      "20  Data Analytics, Data Science, Machine Learning...  \n",
      "21  Data Science, Machine Learning, Python, R, Dee...  \n",
      "22  Big Data, Data Science, Artificial Intelligenc...  \n",
      "23  Java, Net, Angularjs, Hr, Infrastructure, Mana...  \n",
      "24  Data Science, Artificial Intelligence, Machine...  \n",
      "25  Software Architecture, Vp Engineering, Product...  \n",
      "26  Data Science, Hadoop, Rpas, Devops, Python, Aw...  \n",
      "27  Signal Processing, Machine Learning, Neural Ne...  \n",
      "28  Web Technologies, Project Management, Software...  \n",
      "29  Data Science, Artificial Intelligence, analyti...  \n",
      "30  Server Administartion, Verilog, Vhdl, Digital ...  \n",
      "31  Data Analytics, Managed Services, Team Leading...  \n",
      "32  Data Science, Machine Learning, Big Data Analy...  \n",
      "33  Python, Artificial Intelligence, Machine Learn...  \n",
      "34  Walmart Interra Skeps Expressstores indifi whi...  \n",
      "35  Java, Python, Angularjs, Software Testing, Mac...  \n",
      "36  Machine Learning, Artificial Intelligence, Dat...  \n",
      "37  C, C++, Artificial Intelligence, Python, Php, ...  \n",
      "38  Relationship Management, Retail Sales, Private...  \n",
      "39                 Data Science, Software Engineering  \n",
      "40  Data Science, Big Data Analytics, Digital Mark...  \n",
      "41                  Data Science, Recruitment, Salary  \n",
      "42  B.Tech, Tableau, Statistics, R, Analytics, Tim...  \n",
      "43  Software Development, Business Intelligence, B...  \n",
      "44                   Data Science, Node.js, Angularjs  \n",
      "45  Data Science, Media Marketing, Resource Planni...  \n",
      "46  Data Analysis, Learning, Data Science, Compute...  \n",
      "47  Java, Hadoop, R, Machine Learning, Spark, Flum...  \n",
      "48  Software Development, Core Java, Unit Testing,...  \n",
      "49  Machine Learning, Data Science, Product Manage...  \n"
     ]
    }
   ],
   "source": [
    "#creating dataframe\n",
    "df=pd.DataFrame({'Name':name,\n",
    "                'Designation':designation,\n",
    "                'Company':company,\n",
    "                \"Location\":location,\n",
    "                'Skills I hire':skill})\n",
    "print(df)"
   ]
  },
  {
   "cell_type": "markdown",
   "metadata": {},
   "source": [
    "8. Scrape the details of Highest selling novels"
   ]
  },
  {
   "cell_type": "code",
   "execution_count": 87,
   "metadata": {},
   "outputs": [],
   "source": [
    "Url = \"https://www.theguardian.com/news/datablog/2012/aug/09/best-selling-books-all-time-fifty-shades-grey\u0002compare\""
   ]
  },
  {
   "cell_type": "code",
   "execution_count": 88,
   "metadata": {},
   "outputs": [],
   "source": [
    "driver.get(Url)"
   ]
  },
  {
   "cell_type": "code",
   "execution_count": 89,
   "metadata": {},
   "outputs": [
    {
     "name": "stdout",
     "output_type": "stream",
     "text": [
      "0\n"
     ]
    }
   ],
   "source": [
    "book_name=[]\n",
    "try:\n",
    "    names=driver.find_elements_by_xpath(\"//table[@class='in-article sortable']/tbody/tr/td[2]\")\n",
    "    for i in names:\n",
    "        book_name.append(i.text)\n",
    "except NoSuchElementException:#handling no such element exception\n",
    "    book_name.append('No details available')\n",
    "print(len(book_name))"
   ]
  },
  {
   "cell_type": "code",
   "execution_count": 90,
   "metadata": {},
   "outputs": [
    {
     "name": "stdout",
     "output_type": "stream",
     "text": [
      "0\n"
     ]
    }
   ],
   "source": [
    "author_name=[]\n",
    "try:\n",
    "    names=driver.find_elements_by_xpath(\"//table[@class='in-article sortable']/tbody/tr/td[3]\")\n",
    "    for i in names:\n",
    "        author_name.append(i.text)\n",
    "except NoSuchElementException:#handling no such element exception\n",
    "    author_name.append('No details available')\n",
    "\n",
    "print(len(author_name))"
   ]
  },
  {
   "cell_type": "code",
   "execution_count": 91,
   "metadata": {},
   "outputs": [
    {
     "name": "stdout",
     "output_type": "stream",
     "text": [
      "0\n"
     ]
    }
   ],
   "source": [
    "publisher=[]\n",
    "try:\n",
    "    publishers=driver.find_elements_by_xpath(\"//table[@class='in-article sortable']/tbody/tr/td[5]\")\n",
    "    for i in publishers:\n",
    "        publisher.append(i.text)\n",
    "except NoSuchElementException:#handling no such element exception\n",
    "    publisher.append('No details available')\n",
    "\n",
    "print(len(publisher))"
   ]
  },
  {
   "cell_type": "code",
   "execution_count": 92,
   "metadata": {},
   "outputs": [
    {
     "name": "stdout",
     "output_type": "stream",
     "text": [
      "0\n"
     ]
    }
   ],
   "source": [
    "genre=[]\n",
    "try:\n",
    "    genres=driver.find_elements_by_xpath(\"//table[@class='in-article sortable']/tbody/tr/td[6]\")\n",
    "    for i in genres:\n",
    "        genre.append(i.text)\n",
    "except NoSuchElementException:#handling no such element exception\n",
    "    genre.append('No details available')\n",
    "\n",
    "print(len(genre))"
   ]
  },
  {
   "cell_type": "markdown",
   "metadata": {},
   "source": [
    "9. Scrape the details most watched tv series of all time from imdb.com"
   ]
  },
  {
   "cell_type": "code",
   "execution_count": 93,
   "metadata": {},
   "outputs": [],
   "source": [
    " Url = \"https://www.imdb.com/list/ls095964455\""
   ]
  },
  {
   "cell_type": "code",
   "execution_count": 94,
   "metadata": {},
   "outputs": [],
   "source": [
    "driver.get(Url)"
   ]
  },
  {
   "cell_type": "code",
   "execution_count": 95,
   "metadata": {},
   "outputs": [
    {
     "name": "stdout",
     "output_type": "stream",
     "text": [
      "100\n"
     ]
    }
   ],
   "source": [
    "name=[]\n",
    "try:\n",
    "    names=driver.find_elements_by_xpath(\"//h3[@class='lister-item-header']/a\")\n",
    "    for i in names:\n",
    "        name.append(i.text)\n",
    "except NosuchElementException:#handling no such element exception\n",
    "    name.append('No details available')\n",
    "print(len(name))"
   ]
  },
  {
   "cell_type": "code",
   "execution_count": 96,
   "metadata": {},
   "outputs": [
    {
     "name": "stdout",
     "output_type": "stream",
     "text": [
      "100\n"
     ]
    }
   ],
   "source": [
    "\n",
    "years=[]\n",
    "try:\n",
    "    span=driver.find_elements_by_xpath(\"//h3[@class='lister-item-header']/span[2]\")\n",
    "    for i in span:\n",
    "        years.append(i.text)\n",
    "except NosuchElementException:#handling no such element exception\n",
    "    years.append('No details available')\n",
    "print(len(years))"
   ]
  },
  {
   "cell_type": "code",
   "execution_count": 97,
   "metadata": {},
   "outputs": [
    {
     "name": "stdout",
     "output_type": "stream",
     "text": [
      "100\n"
     ]
    }
   ],
   "source": [
    "genre=[]\n",
    "try:\n",
    "    genres=driver.find_elements_by_xpath(\"//span[@class='genre']\")\n",
    "    for i in genres:\n",
    "        genre.append(i.text)\n",
    "except NoSuchElementException:#handling no such element exception\n",
    "    genre.append('No details available')\n",
    "print(len(genre))"
   ]
  },
  {
   "cell_type": "code",
   "execution_count": 98,
   "metadata": {},
   "outputs": [
    {
     "name": "stdout",
     "output_type": "stream",
     "text": [
      "100\n"
     ]
    }
   ],
   "source": [
    "run_time=[]\n",
    "try:\n",
    "    info=driver.find_elements_by_xpath(\"//span[@class='runtime']\")\n",
    "    for i in info:\n",
    "        run_time.append(i.text)\n",
    "except NoSuchElementException:#handling no such element exception\n",
    "    run_time.append('No details available')\n",
    "print(len(run_time))"
   ]
  },
  {
   "cell_type": "code",
   "execution_count": 99,
   "metadata": {},
   "outputs": [
    {
     "name": "stdout",
     "output_type": "stream",
     "text": [
      "100\n"
     ]
    }
   ],
   "source": [
    "rating=[]\n",
    "try:\n",
    "    info=driver.find_elements_by_xpath(\"//div[@class='ipl-rating-star small']/span[2]\")\n",
    "    for i in info:\n",
    "        rating.append(i.text)\n",
    "except NoSuchElementException:#handling no such element exception\n",
    "    rating.append('No details available')\n",
    "print(len(rating))"
   ]
  },
  {
   "cell_type": "code",
   "execution_count": 100,
   "metadata": {},
   "outputs": [
    {
     "name": "stdout",
     "output_type": "stream",
     "text": [
      "100\n"
     ]
    }
   ],
   "source": [
    "votes=[]\n",
    "try:\n",
    "    info=driver.find_elements_by_xpath(\"//span[@name='nv']\")\n",
    "    for i in info:\n",
    "        votes.append(i.text)\n",
    "except NoSuchElementException:#handling no such element exception\n",
    "    votes.append('No details available')\n",
    "print(len(votes))"
   ]
  },
  {
   "cell_type": "code",
   "execution_count": 101,
   "metadata": {},
   "outputs": [
    {
     "name": "stdout",
     "output_type": "stream",
     "text": [
      "                              Name        years                     Genre  \\\n",
      "0                  Game of Thrones  (2011–2019)  Action, Adventure, Drama   \n",
      "1                  Stranger Things     (2016– )    Drama, Fantasy, Horror   \n",
      "2                 The Walking Dead  (2010–2022)   Drama, Horror, Thriller   \n",
      "3                   13 Reasons Why  (2017–2020)  Drama, Mystery, Thriller   \n",
      "4                          The 100  (2014–2020)    Drama, Mystery, Sci-Fi   \n",
      "..                             ...          ...                       ...   \n",
      "95                           Reign  (2013–2017)            Drama, Fantasy   \n",
      "96  A Series of Unfortunate Events  (2017–2019)  Adventure, Comedy, Drama   \n",
      "97                  Criminal Minds  (2005–2020)     Crime, Drama, Mystery   \n",
      "98           Scream: The TV Series     (2015– )      Comedy, Crime, Drama   \n",
      "99      The Haunting of Hill House       (2018)    Drama, Horror, Mystery   \n",
      "\n",
      "   Run_time Rating      Votes  \n",
      "0    57 min    9.2  1,848,384  \n",
      "1    51 min    8.7    885,894  \n",
      "2    44 min    8.2    885,828  \n",
      "3    60 min    7.6    266,399  \n",
      "4    43 min    7.6    226,966  \n",
      "..      ...    ...        ...  \n",
      "95   42 min    7.5     45,045  \n",
      "96   50 min    7.8     55,754  \n",
      "97   42 min      8    171,811  \n",
      "98   45 min    7.1     35,662  \n",
      "99  572 min    8.6    195,124  \n",
      "\n",
      "[100 rows x 6 columns]\n"
     ]
    }
   ],
   "source": [
    "#creating dataframe\n",
    "df=pd.DataFrame({\"Name\":name,\n",
    "                \"years\":years,\n",
    "                \"Genre\":genre,\n",
    "                \"Run_time\":run_time,\n",
    "                \"Rating\":rating,\n",
    "                \"Votes\":votes})\n",
    "print(df)"
   ]
  },
  {
   "cell_type": "markdown",
   "metadata": {},
   "source": [
    "10. Details of Datasets from UCI machine learning repositories"
   ]
  },
  {
   "cell_type": "code",
   "execution_count": 102,
   "metadata": {},
   "outputs": [],
   "source": [
    "Url = \"https://archive.ics.uci.edu\""
   ]
  },
  {
   "cell_type": "code",
   "execution_count": 103,
   "metadata": {},
   "outputs": [],
   "source": [
    "driver.get(Url)"
   ]
  },
  {
   "cell_type": "code",
   "execution_count": 104,
   "metadata": {},
   "outputs": [],
   "source": [
    "#clicking show all datasets link\n",
    "show=driver.find_element_by_xpath(\"//a[@href='datasets.php']\")\n",
    "show.click()"
   ]
  },
  {
   "cell_type": "code",
   "execution_count": 105,
   "metadata": {},
   "outputs": [
    {
     "name": "stdout",
     "output_type": "stream",
     "text": [
      "588\n"
     ]
    }
   ],
   "source": [
    "#scraping dataset names\n",
    "name=[]\n",
    "try:\n",
    "    names=driver.find_elements_by_xpath(\"/html/body/table[2]/tbody/tr/td[2]/table[2]/tbody/tr/td[1]/table/tbody/tr/td[2]/p/b/a\")\n",
    "    for i in names:\n",
    "        name.append(i.text)\n",
    "except NoSuchElementException:#handling no such element exception\n",
    "    name.append('No details available')\n",
    "print(len(name))"
   ]
  },
  {
   "cell_type": "code",
   "execution_count": 106,
   "metadata": {},
   "outputs": [
    {
     "name": "stdout",
     "output_type": "stream",
     "text": [
      "588\n"
     ]
    }
   ],
   "source": [
    "#scraping dataset names\n",
    "data_type=[]\n",
    "try:\n",
    "    info=driver.find_elements_by_xpath(\"/html/body/table[2]/tbody/tr/td[2]/table[2]/tbody/tr/td[2]\")\n",
    "    for i in info[1:]:\n",
    "         data_type.append(i.text)\n",
    "except NoSuchElementException:\n",
    "    data_type.append(\"No information\")\n",
    "print(len(data_type))"
   ]
  },
  {
   "cell_type": "code",
   "execution_count": 107,
   "metadata": {},
   "outputs": [
    {
     "name": "stdout",
     "output_type": "stream",
     "text": [
      "588\n"
     ]
    }
   ],
   "source": [
    "#scraping dataset names\n",
    "default_task=[]\n",
    "try:\n",
    "    info=driver.find_elements_by_xpath(\"/html/body/table[2]/tbody/tr/td[2]/table[2]/tbody/tr/td[3]\")\n",
    "    for i in info[1:]:\n",
    "         default_task.append(i.text)\n",
    "except NoSuchElementException:\n",
    "    default_task.append(\"No information\")\n",
    "print(len(default_task))"
   ]
  },
  {
   "cell_type": "code",
   "execution_count": 108,
   "metadata": {},
   "outputs": [
    {
     "name": "stdout",
     "output_type": "stream",
     "text": [
      "588\n"
     ]
    }
   ],
   "source": [
    "#scraping dataset names\n",
    "attr_type=[]\n",
    "try:\n",
    "    info=driver.find_elements_by_xpath(\"/html/body/table[2]/tbody/tr/td[2]/table[2]/tbody/tr/td[4]\")\n",
    "    for i in info[1:]:\n",
    "         attr_type.append(i.text)\n",
    "except NoSuchElementException:\n",
    "    attr_type.append(\"No information\")\n",
    "print(len(attr_type))"
   ]
  },
  {
   "cell_type": "code",
   "execution_count": 109,
   "metadata": {},
   "outputs": [
    {
     "name": "stdout",
     "output_type": "stream",
     "text": [
      "588\n"
     ]
    }
   ],
   "source": [
    "#scraping dataset names\n",
    "no_of_instances=[]\n",
    "try:\n",
    "    info=driver.find_elements_by_xpath(\"/html/body/table[2]/tbody/tr/td[2]/table[2]/tbody/tr/td[5]\")\n",
    "    for i in info[1:]:\n",
    "         no_of_instances.append(i.text)\n",
    "except NoSuchElementException:\n",
    "    no_of_instances.append(\"No information\")\n",
    "print(len(no_of_instances))"
   ]
  },
  {
   "cell_type": "code",
   "execution_count": 110,
   "metadata": {},
   "outputs": [
    {
     "name": "stdout",
     "output_type": "stream",
     "text": [
      "588\n"
     ]
    }
   ],
   "source": [
    "#scraping dataset names\n",
    "no_of_attributes=[]\n",
    "try:\n",
    "    info=driver.find_elements_by_xpath(\"/html/body/table[2]/tbody/tr/td[2]/table[2]/tbody/tr/td[6]\")\n",
    "    for i in info[1:]:\n",
    "         no_of_attributes.append(i.text)\n",
    "except NoSuchElementException:\n",
    "    no_of_attributes.append(\"No information\")\n",
    "print(len(no_of_attributes))"
   ]
  },
  {
   "cell_type": "code",
   "execution_count": 111,
   "metadata": {},
   "outputs": [
    {
     "name": "stdout",
     "output_type": "stream",
     "text": [
      "588\n"
     ]
    }
   ],
   "source": [
    "#scraping dataset names\n",
    "year=[]\n",
    "try:\n",
    "    info=driver.find_elements_by_xpath(\"/html/body/table[2]/tbody/tr/td[2]/table[2]/tbody/tr/td[7]\")\n",
    "    for i in info[1:]:\n",
    "         year.append(i.text)\n",
    "except NoSuchElementException:\n",
    "    year.append(\"No information\")\n",
    "print(len(year))"
   ]
  },
  {
   "cell_type": "code",
   "execution_count": 112,
   "metadata": {},
   "outputs": [
    {
     "name": "stdout",
     "output_type": "stream",
     "text": [
      "                                 Name      Data_type                  Task  \\\n",
      "0                             Abalone  Multivariate        Classification    \n",
      "1                               Adult  Multivariate        Classification    \n",
      "2                           Annealing  Multivariate        Classification    \n",
      "3        Anonymous Microsoft Web Data                 Recommender-Systems    \n",
      "4                          Arrhythmia  Multivariate        Classification    \n",
      "..                                ...            ...                   ...   \n",
      "583  in-vehicle coupon recommendation  Multivariate        Classification    \n",
      "584               Gait Classification  Multivariate        Classification    \n",
      "585         Wikipedia Math Essentials   Time-Series            Regression    \n",
      "586         Wikipedia Math Essentials   Time-Series            Regression    \n",
      "587      Synchronous Machine Data Set  Multivariate            Regression    \n",
      "\n",
      "                  Attribute_type No_of_instances No_of_attributes   Year  \n",
      "0    Categorical, Integer, Real            4177                8   1995   \n",
      "1          Categorical, Integer           48842               14   1996   \n",
      "2    Categorical, Integer, Real             798               38          \n",
      "3                   Categorical           37711              294   1998   \n",
      "4    Categorical, Integer, Real             452              279   1998   \n",
      "..                           ...             ...              ...    ...  \n",
      "583                                       12684               23   2020   \n",
      "584                        Real              48              321   2020   \n",
      "585                        Real             731             1068   2021   \n",
      "586                        Real             731             1068   2021   \n",
      "587                        Real             557                5   2021   \n",
      "\n",
      "[588 rows x 7 columns]\n"
     ]
    }
   ],
   "source": [
    "#creating dataframe\n",
    "df=pd.DataFrame({'Name':name,\n",
    "                'Data_type':data_type,\n",
    "                'Task':default_task,\n",
    "                'Attribute_type':attr_type,\n",
    "                'No_of_instances':no_of_instances,\n",
    "                'No_of_attributes':no_of_attributes,\n",
    "                'Year':year})\n",
    "print(df)"
   ]
  },
  {
   "cell_type": "code",
   "execution_count": null,
   "metadata": {},
   "outputs": [],
   "source": []
  }
 ],
 "metadata": {
  "kernelspec": {
   "display_name": "Python 3",
   "language": "python",
   "name": "python3"
  },
  "language_info": {
   "codemirror_mode": {
    "name": "ipython",
    "version": 3
   },
   "file_extension": ".py",
   "mimetype": "text/x-python",
   "name": "python",
   "nbconvert_exporter": "python",
   "pygments_lexer": "ipython3",
   "version": "3.8.8"
  }
 },
 "nbformat": 4,
 "nbformat_minor": 4
}
